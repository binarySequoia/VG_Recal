{
 "cells": [
  {
   "cell_type": "markdown",
   "metadata": {},
   "source": [
    "# MODEL ANALYSIS [TRAIN DATA]"
   ]
  },
  {
   "cell_type": "markdown",
   "metadata": {},
   "source": [
    "#### Dependecies"
   ]
  },
  {
   "cell_type": "code",
   "execution_count": 4,
   "metadata": {},
   "outputs": [],
   "source": [
    "%matplotlib inline\n",
    "import numpy as np\n",
    "import matplotlib.pyplot as plt\n",
    "import pandas as pd\n",
    "import seaborn as sns\n",
    "from sklearn.metrics import brier_score_loss\n",
    "\n",
    "LEN = range(70, 260, 10)\n",
    "\n",
    "def decodePhed(x):\n",
    "    return 10**(-x/10.0)"
   ]
  },
  {
   "cell_type": "markdown",
   "metadata": {},
   "source": [
    "#### LOAD CSV"
   ]
  },
  {
   "cell_type": "code",
   "execution_count": 5,
   "metadata": {},
   "outputs": [],
   "source": [
    "train_regular =  list()\n",
    "train_mems =  list()\n",
    "train_bow =  list()\n",
    "train_bow_mems =  list()\n",
    "train_mems_stat = list()\n",
    "orig = list()\n",
    "control_60 = list()"
   ]
  },
  {
   "cell_type": "code",
   "execution_count": 6,
   "metadata": {},
   "outputs": [],
   "source": [
    "reg_fn = \"sims/stats/train/stats_r_{}.tsv\"\n",
    "m_fn = \"sims/stats/train/stats_m_{}.tsv\"\n",
    "b_fn = \"sims/stats/train/stats_b_{}.tsv\"\n",
    "bm_fn = \"sims/stats/train/stats_bm_{}.tsv\"\n",
    "ms_fn = \"sims/stats/train/stats_ms_{}.tsv\""
   ]
  },
  {
   "cell_type": "code",
   "execution_count": null,
   "metadata": {},
   "outputs": [],
   "source": [
    "for i in range(70, 260, 10):\n",
    "    train_regular.append(pd.read_csv(reg_fn.format(i), sep='\\t'))\n",
    "    train_mems.append(pd.read_csv(m_fn.format(i), sep='\\t'))\n",
    "    train_bow.append(pd.read_csv(b_fn.format(i), sep='\\t'))\n",
    "    train_bow_mems.append(pd.read_csv(bm_fn.format(i), sep='\\t'))\n",
    "    train_mems_stat.append(pd.read_csv(ms_fn.format(i), sep='\\t'))\n",
    "    mq_size = train_regular[-1][train_regular[-1].aligner == 'recal']['aligner'].count()\n",
    "    control_60.append(np.ones(mq_size) * 60)\n"
   ]
  },
  {
   "cell_type": "code",
   "execution_count": null,
   "metadata": {},
   "outputs": [],
   "source": [
    "for i in train_regular:\n",
    "    orig.append(i[i.aligner == 'orig'])\n"
   ]
  },
  {
   "cell_type": "markdown",
   "metadata": {},
   "source": [
    "#### Counting correct and incorrect mappings"
   ]
  },
  {
   "cell_type": "code",
   "execution_count": null,
   "metadata": {},
   "outputs": [],
   "source": [
    "correct_counts = list()\n",
    "incorrect_counts = list()\n",
    "for r, m , b, bm, ms, ori in zip(train_regular, train_mems, train_bow, train_bow_mems, train_mems_stat, orig):\n",
    "    r = r[r.aligner == 'recal']\n",
    "    m = m[m.aligner == 'recal']\n",
    "    b = b[b.aligner == 'recal']\n",
    "    bm = bm[bm.aligner == 'recal']\n",
    "    ms = ms[ms.aligner == 'recal']\n",
    "\n",
    "    rc_counts = r[r.correct == 1].correct.count()\n",
    "    ri_counts = r[r.correct == 0].correct.count()\n",
    "    \n",
    "    mc_counts = m[m.correct == 1].correct.count()\n",
    "    mi_counts = m[m.correct == 0].correct.count()\n",
    "    \n",
    "    bc_counts = b[b.correct == 1].correct.count()\n",
    "    bi_counts = b[b.correct == 0].correct.count()\n",
    "    \n",
    "    bmc_counts = bm[bm.correct == 1].correct.count()\n",
    "    bmi_counts = bm[bm.correct == 0].correct.count()\n",
    "    \n",
    "    msc_counts = ms[ms.correct == 1].correct.count()\n",
    "    msi_counts = ms[ms.correct == 0].correct.count()\n",
    "    \n",
    "    oric_counts = ori[ori.correct == 1].correct.count()\n",
    "    orii_counts = ori[ori.correct == 0].correct.count()\n",
    "    \n",
    "    print(\"correct {}, {}, {}, {}, {}, {}\".format(rc_counts, mc_counts, bc_counts, bmc_counts, msc_counts,  oric_counts))\n",
    "    print(\"incorrect {}, {}, {}, {}, {}, {}\".format(ri_counts, mi_counts, bi_counts, bmi_counts, msi_counts,  orii_counts))\n",
    "    correct_counts.append(rc_counts)\n",
    "    incorrect_counts.append(ri_counts)"
   ]
  },
  {
   "cell_type": "code",
   "execution_count": null,
   "metadata": {},
   "outputs": [],
   "source": [
    "incorrect_counts = np.array(incorrect_counts)\n",
    "correct_counts = np.array(correct_counts)"
   ]
  },
  {
   "cell_type": "code",
   "execution_count": null,
   "metadata": {},
   "outputs": [],
   "source": [
    "plt.figure(figsize=(20,8))\n",
    "plt.subplot(1, 2, 1)\n",
    "plt.plot(LEN, incorrect_counts)\n",
    "plt.xlabel('Length')\n",
    "plt.ylabel('Incorrect amounts')\n",
    "plt.title('DNA reads Length vs Incorrect Amount');\n",
    "\n",
    "plt.subplot(1, 2, 2)\n",
    "plt.plot(LEN, correct_counts)\n",
    "plt.xlabel('Length')\n",
    "plt.ylabel('Incorrect amounts')\n",
    "plt.title('DNA reads Length vs Correct Amount');\n",
    "\n",
    "plt.savefig(\"LengthVSIncorrect_train.png\")\n",
    "plt.savefig(\"LengthVSIncorrect_train.pdf\")"
   ]
  },
  {
   "cell_type": "code",
   "execution_count": null,
   "metadata": {},
   "outputs": [],
   "source": [
    "plt.figure(figsize=(20,8))\n",
    "plt.plot(LEN, incorrect_counts/correct_counts.astype('float'))\n",
    "plt.ticklabel_format(style='sci', axis='y', scilimits=(0,0))\n",
    "plt.xlabel('Read Length')\n",
    "plt.ylabel('Incorrect mapping amount %')\n",
    "plt.title('Incorrect mapping amount % DNA Read Length ');\n",
    "plt.savefig(\"LengthVSIncorrectPer_train.png\")\n",
    "plt.savefig(\"LengthVSIncorrectPer_train.pdf\")"
   ]
  },
  {
   "cell_type": "markdown",
   "metadata": {},
   "source": [
    "#### Brier Score"
   ]
  },
  {
   "cell_type": "code",
   "execution_count": null,
   "metadata": {},
   "outputs": [],
   "source": [
    "r_bc = list()\n",
    "m_bc = list()\n",
    "b_bc = list()\n",
    "bm_bc = list()\n",
    "ms_bc = list()\n",
    "ori_bc = list()\n",
    "control60_bc = list()\n",
    "\n",
    "for r, m , b, bm, ms, ori, con in zip(train_regular, train_mems, train_bow, train_bow_mems, train_mems_stat, orig, control_60):\n",
    "    rp = 1 - decodePhed(r.mq.values)\n",
    "    r['p'] = rp\n",
    "    r_bc.append(brier_score_loss(r.correct.values, r.p.values))\n",
    "    \n",
    "    mp = 1 - decodePhed(m.mq.values)\n",
    "    m['p'] = mp\n",
    "    m_bc.append(brier_score_loss(m.correct.values, m.p.values))\n",
    "    \n",
    "    bp = 1 - decodePhed(b.mq.values)\n",
    "    b['p'] = bp\n",
    "    b_bc.append(brier_score_loss(b.correct.values, b.p.values))\n",
    "    \n",
    "    bmp = 1 - decodePhed(bm.mq.values)\n",
    "    bm['p'] = bmp\n",
    "    bm_bc.append(brier_score_loss(bm.correct.values, bm.p.values))\n",
    "    \n",
    "    msp = 1 - decodePhed(ms.mq.values)\n",
    "    ms['p'] = msp\n",
    "    ms_bc.append(brier_score_loss(ms.correct.values, ms.p.values))\n",
    "    \n",
    "    orip = 1 - decodePhed(ori.mq.values)\n",
    "    ori['p'] = orip\n",
    "    ori_bc.append(brier_score_loss(ori.correct.values, ori.p.values))\n",
    "    \n",
    "    conp = 1 - decodePhed(con)\n",
    "    control60_bc.append(brier_score_loss(ori.correct.values, conp))\n",
    "    \n",
    "    "
   ]
  },
  {
   "cell_type": "code",
   "execution_count": null,
   "metadata": {},
   "outputs": [],
   "source": [
    "r_bc = np.array(r_bc)\n",
    "m_bc = np.array(m_bc)\n",
    "b_bc = np.array(b_bc)\n",
    "bm_bc = np.array(bm_bc)\n",
    "ms_bc = np.array(ms_bc)\n",
    "ori_bc = np.array(ori_bc)\n",
    "control60_bc = np.array(control60_bc)"
   ]
  },
  {
   "cell_type": "code",
   "execution_count": null,
   "metadata": {},
   "outputs": [],
   "source": [
    "plt.figure(figsize=(20,8))\n",
    "plt.plot(LEN, r_bc, c='b', label='mapping quality')\n",
    "plt.plot(LEN, m_bc, c='r', label='mems')\n",
    "plt.plot(LEN, b_bc, c='g', label='bag of words')\n",
    "plt.plot(LEN, bm_bc, c='m', label='bag of words with mems')\n",
    "plt.plot(LEN, ms_bc, c='y', label='mems stats')\n",
    "plt.plot(LEN, ori_bc, c='k', label='original')\n",
    "plt.plot(LEN, control60_bc, c='c', label='control')\n",
    "plt.ticklabel_format(style='sci', axis='y', scilimits=(0,0))\n",
    "plt.xlabel('Length')\n",
    "plt.ylabel('Brier Score')\n",
    "plt.title('DNA reads Length vs Brier Score');\n",
    "plt.legend();\n",
    "plt.savefig(\"DNALengthVsBrierScore_train.png\")\n",
    "plt.savefig(\"DNALengthVsBrierScore_train.pdf\")"
   ]
  }
 ],
 "metadata": {
  "kernelspec": {
   "display_name": "Python 3",
   "language": "python",
   "name": "python3"
  },
  "language_info": {
   "codemirror_mode": {
    "name": "ipython",
    "version": 3
   },
   "file_extension": ".py",
   "mimetype": "text/x-python",
   "name": "python",
   "nbconvert_exporter": "python",
   "pygments_lexer": "ipython3",
   "version": "3.6.5"
  }
 },
 "nbformat": 4,
 "nbformat_minor": 2
}
