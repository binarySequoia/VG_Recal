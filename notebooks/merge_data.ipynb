{
 "cells": [
  {
   "cell_type": "markdown",
   "metadata": {},
   "source": [
    "# Merge CSVs files\n",
    "Merge train/test data to create a dataset with data that have range of base pairs lenght."
   ]
  },
  {
   "cell_type": "markdown",
   "metadata": {},
   "source": [
    "#### Dependecies"
   ]
  },
  {
   "cell_type": "code",
   "execution_count": 1,
   "metadata": {},
   "outputs": [],
   "source": [
    "import os\n",
    "import numpy as np\n",
    "import pandas as pd"
   ]
  },
  {
   "cell_type": "markdown",
   "metadata": {},
   "source": [
    "#### Load Files from DIR"
   ]
  },
  {
   "cell_type": "code",
   "execution_count": 2,
   "metadata": {},
   "outputs": [],
   "source": [
    "DIR = \"../data/test_gamcompare/csv/\""
   ]
  },
  {
   "cell_type": "code",
   "execution_count": 3,
   "metadata": {},
   "outputs": [],
   "source": [
    "files = os.listdir(DIR)"
   ]
  },
  {
   "cell_type": "code",
   "execution_count": 4,
   "metadata": {},
   "outputs": [
    {
     "data": {
      "text/plain": [
       "['tcompared_tmapped100_tsim100..csv',\n",
       " 'tcompared_tmapped110_tsim110..csv',\n",
       " 'tcompared_tmapped120_tsim120..csv',\n",
       " 'tcompared_tmapped130_tsim130..csv',\n",
       " 'tcompared_tmapped140_tsim140..csv',\n",
       " 'tcompared_tmapped150_tsim150..csv',\n",
       " 'tcompared_tmapped160_tsim160..csv',\n",
       " 'tcompared_tmapped170_tsim170..csv',\n",
       " 'tcompared_tmapped180_tsim180..csv',\n",
       " 'tcompared_tmapped190_tsim190..csv',\n",
       " 'tcompared_tmapped200_tsim200..csv',\n",
       " 'tcompared_tmapped210_tsim210..csv',\n",
       " 'tcompared_tmapped220_tsim220..csv',\n",
       " 'tcompared_tmapped230_tsim230..csv',\n",
       " 'tcompared_tmapped240_tsim240..csv',\n",
       " 'tcompared_tmapped250_tsim250..csv',\n",
       " 'tcompared_tmapped70_tsim70..csv',\n",
       " 'tcompared_tmapped80_tsim80..csv',\n",
       " 'tcompared_tmapped90_tsim90..csv']"
      ]
     },
     "execution_count": 4,
     "metadata": {},
     "output_type": "execute_result"
    }
   ],
   "source": [
    "files"
   ]
  },
  {
   "cell_type": "code",
   "execution_count": 5,
   "metadata": {},
   "outputs": [],
   "source": [
    "dataframes = list()"
   ]
  },
  {
   "cell_type": "markdown",
   "metadata": {},
   "source": [
    "#### Load and appends CSV files"
   ]
  },
  {
   "cell_type": "code",
   "execution_count": 6,
   "metadata": {},
   "outputs": [
    {
     "name": "stdout",
     "output_type": "stream",
     "text": [
      "Loading tcompared_tmapped100_tsim100..csv\n",
      "Loading tcompared_tmapped110_tsim110..csv\n",
      "Loading tcompared_tmapped120_tsim120..csv\n",
      "Loading tcompared_tmapped130_tsim130..csv\n",
      "Loading tcompared_tmapped140_tsim140..csv\n",
      "Loading tcompared_tmapped150_tsim150..csv\n",
      "Loading tcompared_tmapped160_tsim160..csv\n",
      "Loading tcompared_tmapped170_tsim170..csv\n",
      "Loading tcompared_tmapped180_tsim180..csv\n",
      "Loading tcompared_tmapped190_tsim190..csv\n",
      "Loading tcompared_tmapped200_tsim200..csv\n",
      "Loading tcompared_tmapped210_tsim210..csv\n",
      "Loading tcompared_tmapped220_tsim220..csv\n",
      "Loading tcompared_tmapped230_tsim230..csv\n",
      "Loading tcompared_tmapped240_tsim240..csv\n",
      "Loading tcompared_tmapped250_tsim250..csv\n",
      "Loading tcompared_tmapped70_tsim70..csv\n",
      "Loading tcompared_tmapped80_tsim80..csv\n",
      "Loading tcompared_tmapped90_tsim90..csv\n"
     ]
    }
   ],
   "source": [
    "for f in files:\n",
    "    print(\"Loading {}\".format(f))\n",
    "    dataframes.append(pd.read_csv(os.path.join(DIR,f)))"
   ]
  },
  {
   "cell_type": "code",
   "execution_count": 7,
   "metadata": {},
   "outputs": [],
   "source": [
    "l = [100, 110, 120, 130, 140, 150, 160, 170, 180, 190, 200, 210, 220, 230, 240, 250, 70, 80, 90]"
   ]
  },
  {
   "cell_type": "markdown",
   "metadata": {},
   "source": [
    "#### Add Len column"
   ]
  },
  {
   "cell_type": "code",
   "execution_count": 8,
   "metadata": {},
   "outputs": [],
   "source": [
    "for d, n in zip(dataframes, l):\n",
    "    d['len'] = np.ones(d.shape[0]) * n"
   ]
  },
  {
   "cell_type": "code",
   "execution_count": null,
   "metadata": {},
   "outputs": [],
   "source": [
    "bigdf = pd.concat(dataframes, ignore_index=True)"
   ]
  },
  {
   "cell_type": "code",
   "execution_count": null,
   "metadata": {},
   "outputs": [],
   "source": [
    "bigdf"
   ]
  },
  {
   "cell_type": "markdown",
   "metadata": {},
   "source": [
    "#### Save CSV FILE"
   ]
  },
  {
   "cell_type": "code",
   "execution_count": null,
   "metadata": {},
   "outputs": [],
   "source": [
    "bigdf.to_csv(\"../data/test_gamcompare/csv/big_bow_df_test.csv\", index=False)"
   ]
  }
 ],
 "metadata": {
  "kernelspec": {
   "display_name": "Python 3",
   "language": "python",
   "name": "python3"
  },
  "language_info": {
   "codemirror_mode": {
    "name": "ipython",
    "version": 3
   },
   "file_extension": ".py",
   "mimetype": "text/x-python",
   "name": "python",
   "nbconvert_exporter": "python",
   "pygments_lexer": "ipython3",
   "version": "3.6.5"
  }
 },
 "nbformat": 4,
 "nbformat_minor": 2
}
