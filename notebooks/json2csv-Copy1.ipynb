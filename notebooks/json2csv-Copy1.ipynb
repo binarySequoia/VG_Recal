{
 "cells": [
  {
   "cell_type": "code",
   "execution_count": 4,
   "metadata": {},
   "outputs": [],
   "source": [
    "import json\n",
    "import pandas as pd\n",
    "import matplotlib.pyplot as plt\n",
    "import numpy as np\n",
    "import os\n",
    "import keras\n",
    "from keras.layers import Dense, Dropout, BatchNormalization\n",
    "from keras.models import Sequential\n",
    "from sklearn.metrics import brier_score_loss, accuracy_score\n",
    "from keras.models import load_model\n",
    "\n",
    "def decodePhed(x):\n",
    "    return 1-10**(-x/10.0)"
   ]
  },
  {
   "cell_type": "code",
   "execution_count": 27,
   "metadata": {},
   "outputs": [],
   "source": [
    "test_file = \"sims/tcompared_tmapped100_tsim100.json\""
   ]
  },
  {
   "cell_type": "code",
   "execution_count": 28,
   "metadata": {},
   "outputs": [
    {
     "name": "stdout",
     "output_type": "stream",
     "text": [
      "1000000\n"
     ]
    }
   ],
   "source": [
    "def json2csv(file):\n",
    "    df_dict = {\n",
    "        'correctly_mapped': list(),\n",
    "        'mapping_quality': list(),\n",
    "        'score': list(),\n",
    "        'secondary_score' : list(),\n",
    "        'secondary_score_size':list(),\n",
    "        'identity': list()\n",
    "    }\n",
    "    with open(file, \"r+\") as f:\n",
    "        line = f.readline()\n",
    "        line_dict = json.loads(line) \n",
    "        i = 0\n",
    "        while(line != \"\"):\n",
    "            line_dict = json.loads(line)\n",
    "            if 'correctly_mapped' in line_dict:\n",
    "                df_dict['correctly_mapped'].append(1)\n",
    "            else:\n",
    "                df_dict['correctly_mapped'].append(0)\n",
    "                \n",
    "            if 'mapping_quality' in line_dict:\n",
    "                df_dict['mapping_quality'].append(line_dict['mapping_quality'])\n",
    "            else:\n",
    "                df_dict['mapping_quality'].append(0)\n",
    "            \n",
    "            if 'score' in line_dict:\n",
    "                df_dict['score'].append(line_dict['score'])\n",
    "            else:\n",
    "                df_dict['score'].append(0)\n",
    "                \n",
    "            if 'identity' in line_dict:\n",
    "                df_dict['identity'].append(line_dict['identity'])\n",
    "            else:\n",
    "                df_dict['identity'].append(0)\n",
    "                \n",
    "            if 'secondary_score' in line_dict:\n",
    "                df_dict['secondary_score'].append(line_dict['secondary_score'][0])\n",
    "                df_dict['secondary_score_size'].append(len(line_dict['secondary_score']))\n",
    "            else:\n",
    "                df_dict['secondary_score'].append(0)\n",
    "                df_dict['secondary_score_size'].append(0)\n",
    "            line = f.readline()\n",
    "            i += 1\n",
    "        print(i)\n",
    "\n",
    "    return pd.DataFrame(df_dict)\n",
    "    \n",
    "df = json2csv(test_file)"
   ]
  },
  {
   "cell_type": "code",
   "execution_count": 29,
   "metadata": {},
   "outputs": [
    {
     "data": {
      "text/html": [
       "<div>\n",
       "<style scoped>\n",
       "    .dataframe tbody tr th:only-of-type {\n",
       "        vertical-align: middle;\n",
       "    }\n",
       "\n",
       "    .dataframe tbody tr th {\n",
       "        vertical-align: top;\n",
       "    }\n",
       "\n",
       "    .dataframe thead th {\n",
       "        text-align: right;\n",
       "    }\n",
       "</style>\n",
       "<table border=\"1\" class=\"dataframe\">\n",
       "  <thead>\n",
       "    <tr style=\"text-align: right;\">\n",
       "      <th></th>\n",
       "      <th>correctly_mapped</th>\n",
       "      <th>mapping_quality</th>\n",
       "      <th>score</th>\n",
       "      <th>secondary_score</th>\n",
       "      <th>secondary_score_size</th>\n",
       "      <th>identity</th>\n",
       "    </tr>\n",
       "  </thead>\n",
       "  <tbody>\n",
       "    <tr>\n",
       "      <th>0</th>\n",
       "      <td>1</td>\n",
       "      <td>15</td>\n",
       "      <td>105</td>\n",
       "      <td>100</td>\n",
       "      <td>1</td>\n",
       "      <td>0.99</td>\n",
       "    </tr>\n",
       "    <tr>\n",
       "      <th>1</th>\n",
       "      <td>1</td>\n",
       "      <td>60</td>\n",
       "      <td>105</td>\n",
       "      <td>0</td>\n",
       "      <td>0</td>\n",
       "      <td>0.99</td>\n",
       "    </tr>\n",
       "    <tr>\n",
       "      <th>2</th>\n",
       "      <td>1</td>\n",
       "      <td>60</td>\n",
       "      <td>105</td>\n",
       "      <td>0</td>\n",
       "      <td>1</td>\n",
       "      <td>0.99</td>\n",
       "    </tr>\n",
       "    <tr>\n",
       "      <th>3</th>\n",
       "      <td>1</td>\n",
       "      <td>60</td>\n",
       "      <td>105</td>\n",
       "      <td>0</td>\n",
       "      <td>0</td>\n",
       "      <td>0.99</td>\n",
       "    </tr>\n",
       "    <tr>\n",
       "      <th>4</th>\n",
       "      <td>1</td>\n",
       "      <td>60</td>\n",
       "      <td>110</td>\n",
       "      <td>0</td>\n",
       "      <td>0</td>\n",
       "      <td>1.00</td>\n",
       "    </tr>\n",
       "  </tbody>\n",
       "</table>\n",
       "</div>"
      ],
      "text/plain": [
       "   correctly_mapped  mapping_quality  score  secondary_score  \\\n",
       "0                 1               15    105              100   \n",
       "1                 1               60    105                0   \n",
       "2                 1               60    105                0   \n",
       "3                 1               60    105                0   \n",
       "4                 1               60    110                0   \n",
       "\n",
       "   secondary_score_size  identity  \n",
       "0                     1      0.99  \n",
       "1                     0      0.99  \n",
       "2                     1      0.99  \n",
       "3                     0      0.99  \n",
       "4                     0      1.00  "
      ]
     },
     "execution_count": 29,
     "metadata": {},
     "output_type": "execute_result"
    }
   ],
   "source": [
    "df.head()"
   ]
  },
  {
   "cell_type": "code",
   "execution_count": 30,
   "metadata": {},
   "outputs": [],
   "source": [
    "ndf = df.copy()"
   ]
  },
  {
   "cell_type": "code",
   "execution_count": 31,
   "metadata": {},
   "outputs": [],
   "source": [
    "ndf['mapping_quality'] = df.mapping_quality/60.0\n",
    "ndf['score'] = df.score/df.score.max()\n",
    "ndf['secondary_score'] = df.secondary_score/df.secondary_score.max()\n",
    "ndf['secondary_score_size'] = df.secondary_score_size/df.secondary_score_size.max()"
   ]
  },
  {
   "cell_type": "code",
   "execution_count": 8,
   "metadata": {},
   "outputs": [
    {
     "data": {
      "text/html": [
       "<div>\n",
       "<style scoped>\n",
       "    .dataframe tbody tr th:only-of-type {\n",
       "        vertical-align: middle;\n",
       "    }\n",
       "\n",
       "    .dataframe tbody tr th {\n",
       "        vertical-align: top;\n",
       "    }\n",
       "\n",
       "    .dataframe thead th {\n",
       "        text-align: right;\n",
       "    }\n",
       "</style>\n",
       "<table border=\"1\" class=\"dataframe\">\n",
       "  <thead>\n",
       "    <tr style=\"text-align: right;\">\n",
       "      <th></th>\n",
       "      <th>correctly_mapped</th>\n",
       "      <th>mapping_quality</th>\n",
       "      <th>score</th>\n",
       "      <th>secondary_score</th>\n",
       "      <th>secondary_score_size</th>\n",
       "      <th>identity</th>\n",
       "    </tr>\n",
       "  </thead>\n",
       "  <tbody>\n",
       "    <tr>\n",
       "      <th>0</th>\n",
       "      <td>1</td>\n",
       "      <td>0.25</td>\n",
       "      <td>0.954545</td>\n",
       "      <td>0.909091</td>\n",
       "      <td>0.007874</td>\n",
       "      <td>0.99</td>\n",
       "    </tr>\n",
       "    <tr>\n",
       "      <th>1</th>\n",
       "      <td>1</td>\n",
       "      <td>1.00</td>\n",
       "      <td>0.954545</td>\n",
       "      <td>0.000000</td>\n",
       "      <td>0.000000</td>\n",
       "      <td>0.99</td>\n",
       "    </tr>\n",
       "    <tr>\n",
       "      <th>2</th>\n",
       "      <td>1</td>\n",
       "      <td>1.00</td>\n",
       "      <td>0.954545</td>\n",
       "      <td>0.000000</td>\n",
       "      <td>0.007874</td>\n",
       "      <td>0.99</td>\n",
       "    </tr>\n",
       "    <tr>\n",
       "      <th>3</th>\n",
       "      <td>1</td>\n",
       "      <td>1.00</td>\n",
       "      <td>0.954545</td>\n",
       "      <td>0.000000</td>\n",
       "      <td>0.000000</td>\n",
       "      <td>0.99</td>\n",
       "    </tr>\n",
       "    <tr>\n",
       "      <th>4</th>\n",
       "      <td>1</td>\n",
       "      <td>1.00</td>\n",
       "      <td>1.000000</td>\n",
       "      <td>0.000000</td>\n",
       "      <td>0.000000</td>\n",
       "      <td>1.00</td>\n",
       "    </tr>\n",
       "  </tbody>\n",
       "</table>\n",
       "</div>"
      ],
      "text/plain": [
       "   correctly_mapped  mapping_quality     score  secondary_score  \\\n",
       "0                 1             0.25  0.954545         0.909091   \n",
       "1                 1             1.00  0.954545         0.000000   \n",
       "2                 1             1.00  0.954545         0.000000   \n",
       "3                 1             1.00  0.954545         0.000000   \n",
       "4                 1             1.00  1.000000         0.000000   \n",
       "\n",
       "   secondary_score_size  identity  \n",
       "0              0.007874      0.99  \n",
       "1              0.000000      0.99  \n",
       "2              0.007874      0.99  \n",
       "3              0.000000      0.99  \n",
       "4              0.000000      1.00  "
      ]
     },
     "execution_count": 8,
     "metadata": {},
     "output_type": "execute_result"
    }
   ],
   "source": [
    "ndf.head()"
   ]
  },
  {
   "cell_type": "code",
   "execution_count": 9,
   "metadata": {},
   "outputs": [
    {
     "data": {
      "text/plain": [
       "2366"
      ]
     },
     "execution_count": 9,
     "metadata": {},
     "output_type": "execute_result"
    }
   ],
   "source": [
    "incorrect_amount = ndf[ndf.correctly_mapped == 0]['correctly_mapped'].count()\n",
    "incorrect_amount"
   ]
  },
  {
   "cell_type": "code",
   "execution_count": 9,
   "metadata": {},
   "outputs": [
    {
     "data": {
      "text/plain": [
       "(1940, 485)"
      ]
     },
     "execution_count": 9,
     "metadata": {},
     "output_type": "execute_result"
    }
   ],
   "source": [
    "train_incorrect_amount = (incorrect_amount * 0.8).astype(np.int64)\n",
    "test_incorrect_amount = (incorrect_amount * 0.2).astype(np.int64)\n",
    "train_incorrect_amount,test_incorrect_amount "
   ]
  },
  {
   "cell_type": "code",
   "execution_count": 10,
   "metadata": {},
   "outputs": [],
   "source": [
    "X = ndf.iloc[:, 1:6]\n",
    "y = ndf.iloc[:, :1]\n"
   ]
  },
  {
   "cell_type": "code",
   "execution_count": 11,
   "metadata": {},
   "outputs": [
    {
     "data": {
      "text/html": [
       "<div>\n",
       "<style scoped>\n",
       "    .dataframe tbody tr th:only-of-type {\n",
       "        vertical-align: middle;\n",
       "    }\n",
       "\n",
       "    .dataframe tbody tr th {\n",
       "        vertical-align: top;\n",
       "    }\n",
       "\n",
       "    .dataframe thead th {\n",
       "        text-align: right;\n",
       "    }\n",
       "</style>\n",
       "<table border=\"1\" class=\"dataframe\">\n",
       "  <thead>\n",
       "    <tr style=\"text-align: right;\">\n",
       "      <th></th>\n",
       "      <th>correctly_mapped</th>\n",
       "    </tr>\n",
       "  </thead>\n",
       "  <tbody>\n",
       "    <tr>\n",
       "      <th>0</th>\n",
       "      <td>1</td>\n",
       "    </tr>\n",
       "    <tr>\n",
       "      <th>1</th>\n",
       "      <td>1</td>\n",
       "    </tr>\n",
       "    <tr>\n",
       "      <th>2</th>\n",
       "      <td>1</td>\n",
       "    </tr>\n",
       "    <tr>\n",
       "      <th>3</th>\n",
       "      <td>1</td>\n",
       "    </tr>\n",
       "    <tr>\n",
       "      <th>4</th>\n",
       "      <td>1</td>\n",
       "    </tr>\n",
       "  </tbody>\n",
       "</table>\n",
       "</div>"
      ],
      "text/plain": [
       "   correctly_mapped\n",
       "0                 1\n",
       "1                 1\n",
       "2                 1\n",
       "3                 1\n",
       "4                 1"
      ]
     },
     "execution_count": 11,
     "metadata": {},
     "output_type": "execute_result"
    }
   ],
   "source": [
    "y.head()"
   ]
  },
  {
   "cell_type": "code",
   "execution_count": 11,
   "metadata": {},
   "outputs": [],
   "source": [
    "permu_index = np.random.permutation(X.shape[0])"
   ]
  },
  {
   "cell_type": "code",
   "execution_count": 12,
   "metadata": {},
   "outputs": [],
   "source": [
    "X = X.iloc[permu_index, :]\n",
    "y = y.iloc[permu_index]"
   ]
  },
  {
   "cell_type": "code",
   "execution_count": 13,
   "metadata": {},
   "outputs": [
    {
     "name": "stdout",
     "output_type": "stream",
     "text": [
      "(1940, 5)\n",
      "(1940, 5)\n",
      "(485, 5)\n",
      "(485, 5)\n"
     ]
    }
   ],
   "source": [
    "X_train_correct = X[y.correctly_mapped == 1].iloc[:train_incorrect_amount]\n",
    "y_train_correct = y[y.correctly_mapped == 1].iloc[:train_incorrect_amount]\n",
    "\n",
    "X_train_incorrect = X[y.correctly_mapped == 0].iloc[:train_incorrect_amount]\n",
    "y_train_incorrect = y[y.correctly_mapped == 0].iloc[:train_incorrect_amount]\n",
    "\n",
    "X_test_correct = X[y.correctly_mapped == 1].iloc[train_incorrect_amount:train_incorrect_amount+test_incorrect_amount]\n",
    "y_test_correct = y[y.correctly_mapped == 1].iloc[train_incorrect_amount:train_incorrect_amount+test_incorrect_amount]\n",
    "\n",
    "X_test_incorrect = X[y.correctly_mapped == 0].iloc[train_incorrect_amount:train_incorrect_amount+test_incorrect_amount]\n",
    "y_test_incorrect = y[y.correctly_mapped == 0].iloc[train_incorrect_amount:train_incorrect_amount+test_incorrect_amount]\n",
    "\n",
    "\n",
    "print(X_train_correct.shape)\n",
    "print(X_train_incorrect.shape)\n",
    "print(X_test_correct.shape)\n",
    "print(X_test_incorrect.shape)\n"
   ]
  },
  {
   "cell_type": "code",
   "execution_count": 14,
   "metadata": {},
   "outputs": [
    {
     "name": "stdout",
     "output_type": "stream",
     "text": [
      "(3880, 5)\n",
      "(970, 5)\n",
      "(3880,)\n",
      "(970,)\n"
     ]
    }
   ],
   "source": [
    "X_train = np.append(X_train_correct, X_train_incorrect, axis=0)\n",
    "X_test = np.append(X_test_correct, X_test_incorrect, axis=0)\n",
    "\n",
    "y_train = np.append(y_train_correct, y_train_incorrect)\n",
    "y_test = np.append(y_test_correct, y_test_incorrect)\n",
    "\n",
    "print(X_train.shape)\n",
    "print(X_test.shape)\n",
    "print(y_train.shape)\n",
    "print(y_test.shape)"
   ]
  },
  {
   "cell_type": "code",
   "execution_count": 15,
   "metadata": {},
   "outputs": [],
   "source": [
    "y_train_class = np.zeros((2*train_incorrect_amount, 2))\n",
    "\n",
    "y_train_class[y_train==1, :] = [1, 0]\n",
    "y_train_class[y_train==0, :] = [0, 1]"
   ]
  },
  {
   "cell_type": "code",
   "execution_count": 16,
   "metadata": {},
   "outputs": [],
   "source": [
    "y_test_class = np.zeros((2*test_incorrect_amount, 2))\n",
    "\n",
    "y_test_class[y_test==1, :] = [1, 0]\n",
    "y_test_class[y_test==0, :] = [0, 1]"
   ]
  },
  {
   "cell_type": "code",
   "execution_count": 17,
   "metadata": {},
   "outputs": [
    {
     "data": {
      "text/plain": [
       "(array([[1., 0.],\n",
       "        [1., 0.],\n",
       "        [1., 0.],\n",
       "        ...,\n",
       "        [0., 1.],\n",
       "        [0., 1.],\n",
       "        [0., 1.]]), array([[1., 0.],\n",
       "        [1., 0.],\n",
       "        [1., 0.],\n",
       "        ...,\n",
       "        [0., 1.],\n",
       "        [0., 1.],\n",
       "        [0., 1.]]))"
      ]
     },
     "execution_count": 17,
     "metadata": {},
     "output_type": "execute_result"
    }
   ],
   "source": [
    "y_train_class, y_test_class"
   ]
  },
  {
   "cell_type": "markdown",
   "metadata": {},
   "source": [
    "#### Neural Network HyperParameters"
   ]
  },
  {
   "cell_type": "code",
   "execution_count": 18,
   "metadata": {},
   "outputs": [],
   "source": [
    "input_layer = 5\n",
    "output_layer = 2 \n",
    "\n",
    "h_layer1 = 8\n",
    "dropout1 = 0.25\n",
    "\n",
    "h_layer2 = 16\n",
    "dropout2 = 0.5\n",
    "\n",
    "h_layer3 = 16\n",
    "dropout3 = 0.5\n",
    "\n",
    "h_layer4 = 8\n",
    "dropout4 = 0.5"
   ]
  },
  {
   "cell_type": "markdown",
   "metadata": {},
   "source": [
    "#### Neural Network Architecture"
   ]
  },
  {
   "cell_type": "code",
   "execution_count": 19,
   "metadata": {},
   "outputs": [],
   "source": [
    "model = Sequential()\n",
    "\n",
    "model.add(Dense(h_layer1, activation='relu', input_shape=(input_layer, )))\n",
    "model.add(BatchNormalization())\n",
    "model.add(Dropout(dropout1))\n",
    "\n",
    "model.add(Dense(h_layer2, activation='relu'))\n",
    "model.add(BatchNormalization())\n",
    "model.add(Dropout(dropout2))\n",
    "\n",
    "model.add(Dense(h_layer3, activation='relu'))\n",
    "model.add(Dropout(dropout3))\n",
    "\n",
    "model.add(Dense(h_layer4, activation='relu'))\n",
    "model.add(BatchNormalization())\n",
    "model.add(Dropout(dropout4))\n",
    "\n",
    "model.add(Dense(output_layer, activation='softmax'))"
   ]
  },
  {
   "cell_type": "code",
   "execution_count": 20,
   "metadata": {},
   "outputs": [
    {
     "name": "stdout",
     "output_type": "stream",
     "text": [
      "_________________________________________________________________\n",
      "Layer (type)                 Output Shape              Param #   \n",
      "=================================================================\n",
      "dense_1 (Dense)              (None, 8)                 48        \n",
      "_________________________________________________________________\n",
      "batch_normalization_1 (Batch (None, 8)                 32        \n",
      "_________________________________________________________________\n",
      "dropout_1 (Dropout)          (None, 8)                 0         \n",
      "_________________________________________________________________\n",
      "dense_2 (Dense)              (None, 16)                144       \n",
      "_________________________________________________________________\n",
      "batch_normalization_2 (Batch (None, 16)                64        \n",
      "_________________________________________________________________\n",
      "dropout_2 (Dropout)          (None, 16)                0         \n",
      "_________________________________________________________________\n",
      "dense_3 (Dense)              (None, 16)                272       \n",
      "_________________________________________________________________\n",
      "dropout_3 (Dropout)          (None, 16)                0         \n",
      "_________________________________________________________________\n",
      "dense_4 (Dense)              (None, 8)                 136       \n",
      "_________________________________________________________________\n",
      "batch_normalization_3 (Batch (None, 8)                 32        \n",
      "_________________________________________________________________\n",
      "dropout_4 (Dropout)          (None, 8)                 0         \n",
      "_________________________________________________________________\n",
      "dense_5 (Dense)              (None, 2)                 18        \n",
      "=================================================================\n",
      "Total params: 746\n",
      "Trainable params: 682\n",
      "Non-trainable params: 64\n",
      "_________________________________________________________________\n"
     ]
    }
   ],
   "source": [
    "model.summary()"
   ]
  },
  {
   "cell_type": "code",
   "execution_count": 21,
   "metadata": {},
   "outputs": [],
   "source": [
    "model.compile(loss='categorical_crossentropy', optimizer='adam', metrics=['accuracy'])"
   ]
  },
  {
   "cell_type": "code",
   "execution_count": 38,
   "metadata": {},
   "outputs": [
    {
     "name": "stdout",
     "output_type": "stream",
     "text": [
      "Train on 3880 samples, validate on 970 samples\n",
      "Epoch 1/30\n",
      "3880/3880 [==============================] - 1s 219us/step - loss: 0.1665 - acc: 0.9500 - val_loss: 0.0628 - val_acc: 0.9845\n",
      "Epoch 2/30\n",
      "3880/3880 [==============================] - 1s 248us/step - loss: 0.1648 - acc: 0.9495 - val_loss: 0.0613 - val_acc: 0.9845\n",
      "Epoch 3/30\n",
      "3880/3880 [==============================] - 1s 250us/step - loss: 0.1539 - acc: 0.9541 - val_loss: 0.0603 - val_acc: 0.9845\n",
      "Epoch 4/30\n",
      "3880/3880 [==============================] - 1s 247us/step - loss: 0.1505 - acc: 0.9593 - val_loss: 0.0597 - val_acc: 0.9845\n",
      "Epoch 5/30\n",
      "3880/3880 [==============================] - 1s 236us/step - loss: 0.1436 - acc: 0.9590 - val_loss: 0.0591 - val_acc: 0.9845\n",
      "Epoch 6/30\n",
      "3880/3880 [==============================] - 1s 254us/step - loss: 0.1540 - acc: 0.9567 - val_loss: 0.0588 - val_acc: 0.9845\n",
      "Epoch 7/30\n",
      "3880/3880 [==============================] - 1s 223us/step - loss: 0.1428 - acc: 0.9588 - val_loss: 0.0577 - val_acc: 0.9845\n",
      "Epoch 8/30\n",
      "3880/3880 [==============================] - 1s 258us/step - loss: 0.1431 - acc: 0.9639 - val_loss: 0.0573 - val_acc: 0.9845\n",
      "Epoch 9/30\n",
      "3880/3880 [==============================] - 1s 223us/step - loss: 0.1462 - acc: 0.9639 - val_loss: 0.0567 - val_acc: 0.9856\n",
      "Epoch 10/30\n",
      "3880/3880 [==============================] - 1s 210us/step - loss: 0.1380 - acc: 0.9644 - val_loss: 0.0564 - val_acc: 0.9845\n",
      "Epoch 11/30\n",
      "3880/3880 [==============================] - 1s 311us/step - loss: 0.1336 - acc: 0.9647 - val_loss: 0.0560 - val_acc: 0.9856\n",
      "Epoch 12/30\n",
      "3880/3880 [==============================] - 1s 223us/step - loss: 0.1386 - acc: 0.9588 - val_loss: 0.0558 - val_acc: 0.9856\n",
      "Epoch 13/30\n",
      "3880/3880 [==============================] - 1s 260us/step - loss: 0.1473 - acc: 0.9611 - val_loss: 0.0564 - val_acc: 0.9856\n",
      "Epoch 14/30\n",
      "3880/3880 [==============================] - 1s 179us/step - loss: 0.1375 - acc: 0.9642 - val_loss: 0.0566 - val_acc: 0.9856\n",
      "Epoch 15/30\n",
      "3880/3880 [==============================] - 1s 204us/step - loss: 0.1332 - acc: 0.9662 - val_loss: 0.0547 - val_acc: 0.9856\n",
      "Epoch 16/30\n",
      "3880/3880 [==============================] - 1s 208us/step - loss: 0.1123 - acc: 0.9716 - val_loss: 0.0532 - val_acc: 0.9856\n",
      "Epoch 17/30\n",
      "3880/3880 [==============================] - 1s 202us/step - loss: 0.1223 - acc: 0.9680 - val_loss: 0.0527 - val_acc: 0.9856\n",
      "Epoch 18/30\n",
      "3880/3880 [==============================] - 1s 177us/step - loss: 0.1166 - acc: 0.9727 - val_loss: 0.0513 - val_acc: 0.9856\n",
      "Epoch 19/30\n",
      "3880/3880 [==============================] - 1s 201us/step - loss: 0.1180 - acc: 0.9704 - val_loss: 0.0490 - val_acc: 0.9856\n",
      "Epoch 20/30\n",
      "3880/3880 [==============================] - 1s 166us/step - loss: 0.1180 - acc: 0.9737 - val_loss: 0.0470 - val_acc: 0.9866\n",
      "Epoch 21/30\n",
      "3880/3880 [==============================] - 1s 175us/step - loss: 0.1271 - acc: 0.9673 - val_loss: 0.0455 - val_acc: 0.9866\n",
      "Epoch 22/30\n",
      "3880/3880 [==============================] - 1s 200us/step - loss: 0.1122 - acc: 0.9709 - val_loss: 0.0436 - val_acc: 0.9866\n",
      "Epoch 23/30\n",
      "3880/3880 [==============================] - 1s 201us/step - loss: 0.1155 - acc: 0.9711 - val_loss: 0.0391 - val_acc: 0.9887\n",
      "Epoch 24/30\n",
      "3880/3880 [==============================] - 1s 233us/step - loss: 0.1109 - acc: 0.9701 - val_loss: 0.0357 - val_acc: 0.9897\n",
      "Epoch 25/30\n",
      "3880/3880 [==============================] - 1s 226us/step - loss: 0.1090 - acc: 0.9753 - val_loss: 0.0335 - val_acc: 0.9907\n",
      "Epoch 26/30\n",
      "3880/3880 [==============================] - 1s 279us/step - loss: 0.1026 - acc: 0.9760 - val_loss: 0.0342 - val_acc: 0.9897\n",
      "Epoch 27/30\n",
      "3880/3880 [==============================] - 1s 237us/step - loss: 0.1050 - acc: 0.9711 - val_loss: 0.0335 - val_acc: 0.9907\n",
      "Epoch 28/30\n",
      "3880/3880 [==============================] - 1s 214us/step - loss: 0.1003 - acc: 0.9768 - val_loss: 0.0326 - val_acc: 0.9907\n",
      "Epoch 29/30\n",
      "3880/3880 [==============================] - 1s 245us/step - loss: 0.0884 - acc: 0.9773 - val_loss: 0.0331 - val_acc: 0.9907\n",
      "Epoch 30/30\n",
      "3880/3880 [==============================] - 1s 280us/step - loss: 0.0959 - acc: 0.9768 - val_loss: 0.0313 - val_acc: 0.9918\n"
     ]
    },
    {
     "data": {
      "text/plain": [
       "<keras.callbacks.History at 0x7f8e3eb8d978>"
      ]
     },
     "execution_count": 38,
     "metadata": {},
     "output_type": "execute_result"
    }
   ],
   "source": [
    "model.fit(X_train, y_train_class, batch_size=128, epochs=30, \n",
    "          verbose=1, validation_data=(X_test, y_test_class), shuffle=True)"
   ]
  },
  {
   "cell_type": "code",
   "execution_count": 39,
   "metadata": {},
   "outputs": [
    {
     "data": {
      "text/plain": [
       "array([[2.9785424e-03, 9.9702150e-01],\n",
       "       [4.0060543e-03, 9.9599397e-01],\n",
       "       [4.0610153e-03, 9.9593902e-01],\n",
       "       [2.9079167e-03, 9.9709201e-01],\n",
       "       [3.6337967e-03, 9.9636614e-01],\n",
       "       [3.7259595e-03, 9.9627399e-01],\n",
       "       [3.4123980e-03, 9.9658763e-01],\n",
       "       [2.6794891e-03, 9.9732047e-01],\n",
       "       [4.0731775e-03, 9.9592680e-01],\n",
       "       [4.1578365e-03, 9.9584216e-01],\n",
       "       [4.5123817e-03, 9.9548763e-01],\n",
       "       [3.1134614e-03, 9.9688655e-01],\n",
       "       [3.3317728e-03, 9.9666828e-01],\n",
       "       [1.5628597e-03, 9.9843711e-01],\n",
       "       [2.6183671e-03, 9.9738163e-01],\n",
       "       [2.4493532e-02, 9.7550642e-01],\n",
       "       [4.1501536e-03, 9.9584985e-01],\n",
       "       [4.1450365e-03, 9.9585491e-01],\n",
       "       [2.9354070e-03, 9.9706465e-01],\n",
       "       [1.3714946e-03, 9.9862850e-01],\n",
       "       [3.7143626e-03, 9.9628568e-01],\n",
       "       [3.7166786e-03, 9.9628335e-01],\n",
       "       [4.1655381e-03, 9.9583447e-01],\n",
       "       [4.0026437e-03, 9.9599731e-01],\n",
       "       [3.8617493e-03, 9.9613827e-01],\n",
       "       [1.4854586e-03, 9.9851459e-01],\n",
       "       [4.0610153e-03, 9.9593902e-01],\n",
       "       [3.3954130e-03, 9.9660456e-01],\n",
       "       [9.2514595e-03, 9.9074847e-01],\n",
       "       [4.1195550e-03, 9.9588048e-01],\n",
       "       [4.1246386e-03, 9.9587542e-01],\n",
       "       [4.1297283e-03, 9.9587029e-01],\n",
       "       [4.0334393e-03, 9.9596655e-01],\n",
       "       [4.8339981e-04, 9.9951661e-01],\n",
       "       [1.3065819e-03, 9.9869341e-01],\n",
       "       [4.1424809e-03, 9.9585754e-01],\n",
       "       [3.0688620e-03, 9.9693108e-01],\n",
       "       [3.7422604e-03, 9.9625778e-01],\n",
       "       [4.1655381e-03, 9.9583447e-01],\n",
       "       [3.6843715e-03, 9.9631566e-01],\n",
       "       [2.0107401e-03, 9.9798930e-01],\n",
       "       [3.0960257e-03, 9.9690396e-01],\n",
       "       [4.0714019e-03, 9.9592859e-01],\n",
       "       [4.0714019e-03, 9.9592859e-01],\n",
       "       [3.5663159e-03, 9.9643362e-01],\n",
       "       [4.1170144e-03, 9.9588299e-01],\n",
       "       [4.0472047e-03, 9.9595284e-01],\n",
       "       [4.0610153e-03, 9.9593902e-01],\n",
       "       [4.1501536e-03, 9.9584985e-01],\n",
       "       [4.2294380e-03, 9.9577051e-01],\n",
       "       [3.8963177e-03, 9.9610364e-01],\n",
       "       [4.1681081e-03, 9.9583191e-01],\n",
       "       [3.9908504e-03, 9.9600911e-01],\n",
       "       [2.6953775e-03, 9.9730456e-01],\n",
       "       [4.1170144e-03, 9.9588299e-01],\n",
       "       [2.8121984e-03, 9.9718779e-01],\n",
       "       [4.1681081e-03, 9.9583191e-01],\n",
       "       [3.9890339e-03, 9.9601102e-01],\n",
       "       [4.0231505e-03, 9.9597687e-01],\n",
       "       [3.9469120e-03, 9.9605310e-01],\n",
       "       [1.6070137e-03, 9.9839300e-01],\n",
       "       [4.1629709e-03, 9.9583697e-01],\n",
       "       [4.1655381e-03, 9.9583447e-01],\n",
       "       [4.1373754e-03, 9.9586260e-01],\n",
       "       [1.5274471e-03, 9.9847251e-01],\n",
       "       [4.0163030e-03, 9.9598372e-01],\n",
       "       [4.1706823e-03, 9.9582928e-01],\n",
       "       [1.1841131e-03, 9.9881589e-01],\n",
       "       [1.1174813e-03, 9.9888247e-01],\n",
       "       [2.1869668e-03, 9.9781299e-01],\n",
       "       [4.0060543e-03, 9.9599397e-01],\n",
       "       [3.6360784e-03, 9.9636394e-01],\n",
       "       [1.1602195e-02, 9.8839778e-01],\n",
       "       [4.1527124e-03, 9.9584728e-01],\n",
       "       [3.4905241e-03, 9.9650949e-01],\n",
       "       [4.0748725e-03, 9.9592519e-01],\n",
       "       [3.8575213e-03, 9.9614245e-01],\n",
       "       [3.4041279e-03, 9.9659592e-01],\n",
       "       [5.0757017e-02, 9.4924295e-01],\n",
       "       [4.0560579e-03, 9.9594396e-01],\n",
       "       [3.6307268e-03, 9.9636924e-01],\n",
       "       [6.9831358e-06, 9.9999297e-01],\n",
       "       [3.5238552e-03, 9.9647611e-01],\n",
       "       [1.7652198e-03, 9.9823475e-01],\n",
       "       [4.1706823e-03, 9.9582928e-01],\n",
       "       [4.0288060e-03, 9.9597114e-01],\n",
       "       [3.0871639e-03, 9.9691284e-01],\n",
       "       [3.0818458e-03, 9.9691820e-01],\n",
       "       [8.7534543e-05, 9.9991250e-01],\n",
       "       [4.0128841e-03, 9.9598712e-01],\n",
       "       [4.0094671e-03, 9.9599057e-01],\n",
       "       [5.2282453e-04, 9.9947721e-01],\n",
       "       [4.1424809e-03, 9.9585754e-01],\n",
       "       [1.3581185e-03, 9.9864191e-01],\n",
       "       [4.1706823e-03, 9.9582928e-01],\n",
       "       [4.1578365e-03, 9.9584216e-01],\n",
       "       [3.6866707e-03, 9.9631339e-01],\n",
       "       [4.0679388e-03, 9.9593204e-01],\n",
       "       [4.1706823e-03, 9.9582928e-01],\n",
       "       [1.3803251e-03, 9.9861968e-01]], dtype=float32)"
      ]
     },
     "execution_count": 39,
     "metadata": {},
     "output_type": "execute_result"
    }
   ],
   "source": [
    "X_sample = X_test[y_test == 0][0:100]\n",
    "\n",
    "model.predict(X_sample)"
   ]
  },
  {
   "cell_type": "code",
   "execution_count": 40,
   "metadata": {},
   "outputs": [],
   "source": [
    "model.save('model_2.model')\n",
    "model.save_weights('model_2-w.weights')"
   ]
  },
  {
   "cell_type": "code",
   "execution_count": 12,
   "metadata": {},
   "outputs": [],
   "source": [
    "model = load_model('model_2.h5')"
   ]
  },
  {
   "cell_type": "code",
   "execution_count": 13,
   "metadata": {},
   "outputs": [],
   "source": [
    "y_pred = model.predict(ndf.iloc[:, 1:6].values) "
   ]
  },
  {
   "cell_type": "code",
   "execution_count": 14,
   "metadata": {},
   "outputs": [],
   "source": [
    "orig = decodePhed(df.mapping_quality.values)\n",
    "labels = df.correctly_mapped.values\n",
    "nn_pred = y_pred[:, 0]"
   ]
  },
  {
   "cell_type": "code",
   "execution_count": 59,
   "metadata": {},
   "outputs": [],
   "source": [
    "indx = ((y_pred[:, 0]  >= 0.90) | (y_pred[:, 0]  <= 0.10))"
   ]
  },
  {
   "cell_type": "code",
   "execution_count": 57,
   "metadata": {},
   "outputs": [
    {
     "data": {
      "text/plain": [
       "array([0.99913365, 0.999366  , 0.99913365, ..., 0.9991448 , 0.99913365,\n",
       "       0.99950445], dtype=float32)"
      ]
     },
     "execution_count": 57,
     "metadata": {},
     "output_type": "execute_result"
    }
   ],
   "source": [
    "nn_pred[indx]"
   ]
  },
  {
   "cell_type": "code",
   "execution_count": 15,
   "metadata": {},
   "outputs": [
    {
     "data": {
      "text/plain": [
       "0.008267885534199824"
      ]
     },
     "execution_count": 15,
     "metadata": {},
     "output_type": "execute_result"
    }
   ],
   "source": [
    "brier_score_loss(labels, nn_pred)"
   ]
  },
  {
   "cell_type": "code",
   "execution_count": 16,
   "metadata": {},
   "outputs": [
    {
     "data": {
      "text/plain": [
       "0.0017856050625612286"
      ]
     },
     "execution_count": 16,
     "metadata": {},
     "output_type": "execute_result"
    }
   ],
   "source": [
    "brier_score_loss(labels, orig) "
   ]
  },
  {
   "cell_type": "code",
   "execution_count": 17,
   "metadata": {},
   "outputs": [],
   "source": [
    "nn_pred[nn_pred >= 0.5] = 1\n",
    "nn_pred[nn_pred < 0.5] = 0"
   ]
  },
  {
   "cell_type": "code",
   "execution_count": 18,
   "metadata": {},
   "outputs": [
    {
     "data": {
      "text/plain": [
       "0.991138"
      ]
     },
     "execution_count": 18,
     "metadata": {},
     "output_type": "execute_result"
    }
   ],
   "source": [
    "accuracy_score(labels, nn_pred)"
   ]
  },
  {
   "cell_type": "code",
   "execution_count": 19,
   "metadata": {},
   "outputs": [],
   "source": [
    "orig[orig >= 0.5] = 1\n",
    "orig[orig < 0.5] = 0"
   ]
  },
  {
   "cell_type": "code",
   "execution_count": 20,
   "metadata": {},
   "outputs": [
    {
     "data": {
      "text/plain": [
       "0.998043"
      ]
     },
     "execution_count": 20,
     "metadata": {},
     "output_type": "execute_result"
    }
   ],
   "source": [
    "accuracy_score(labels, orig)"
   ]
  },
  {
   "cell_type": "code",
   "execution_count": 23,
   "metadata": {},
   "outputs": [
    {
     "data": {
      "text/plain": [
       "0.9928148774302621"
      ]
     },
     "execution_count": 23,
     "metadata": {},
     "output_type": "execute_result"
    }
   ],
   "source": [
    "accuracy_score(labels[labels == 0], nn_pred[labels == 0])"
   ]
  },
  {
   "cell_type": "code",
   "execution_count": 24,
   "metadata": {},
   "outputs": [
    {
     "data": {
      "text/plain": [
       "0.9065934065934066"
      ]
     },
     "execution_count": 24,
     "metadata": {},
     "output_type": "execute_result"
    }
   ],
   "source": [
    "accuracy_score(labels[labels == 0], orig[labels == 0])"
   ]
  },
  {
   "cell_type": "code",
   "execution_count": 25,
   "metadata": {},
   "outputs": [
    {
     "data": {
      "text/plain": [
       "0.9911340230986514"
      ]
     },
     "execution_count": 25,
     "metadata": {},
     "output_type": "execute_result"
    }
   ],
   "source": [
    "accuracy_score(labels[labels == 1], nn_pred[labels == 1])"
   ]
  },
  {
   "cell_type": "code",
   "execution_count": 26,
   "metadata": {},
   "outputs": [
    {
     "data": {
      "text/plain": [
       "0.9982598828829009"
      ]
     },
     "execution_count": 26,
     "metadata": {},
     "output_type": "execute_result"
    }
   ],
   "source": [
    "accuracy_score(labels[labels == 1], orig[labels == 1])"
   ]
  },
  {
   "cell_type": "code",
   "execution_count": null,
   "metadata": {},
   "outputs": [],
   "source": []
  }
 ],
 "metadata": {
  "kernelspec": {
   "display_name": "Python 3",
   "language": "python",
   "name": "python3"
  },
  "language_info": {
   "codemirror_mode": {
    "name": "ipython",
    "version": 3
   },
   "file_extension": ".py",
   "mimetype": "text/x-python",
   "name": "python",
   "nbconvert_exporter": "python",
   "pygments_lexer": "ipython3",
   "version": "3.6.5"
  }
 },
 "nbformat": 4,
 "nbformat_minor": 2
}
