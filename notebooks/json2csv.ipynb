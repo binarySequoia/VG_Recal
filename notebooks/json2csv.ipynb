{
 "cells": [
  {
   "cell_type": "code",
   "execution_count": 1,
   "metadata": {},
   "outputs": [
    {
     "name": "stderr",
     "output_type": "stream",
     "text": [
      "/public/home/jchan67/anaconda3/lib/python3.6/site-packages/h5py/__init__.py:36: FutureWarning: Conversion of the second argument of issubdtype from `float` to `np.floating` is deprecated. In future, it will be treated as `np.float64 == np.dtype(float).type`.\n",
      "  from ._conv import register_converters as _register_converters\n",
      "Using TensorFlow backend.\n"
     ]
    }
   ],
   "source": [
    "import json\n",
    "import pandas as pd\n",
    "import matplotlib.pyplot as plt\n",
    "import numpy as np\n",
    "import os\n",
    "import keras\n",
    "from keras.layers import Dense, Dropout, BatchNormalization\n",
    "from keras.models import Sequential\n",
    "from sklearn.metrics import brier_score_loss, accuracy_score\n",
    "from keras.utils import to_categorical\n",
    "\n",
    "def decodePhed(x):\n",
    "    return 1-10**(-x/10.0)"
   ]
  },
  {
   "cell_type": "code",
   "execution_count": 5,
   "metadata": {},
   "outputs": [],
   "source": [
    "train_file = \"data/train_gamcompare/json/compared_mapped100_sim100.json\"\n",
    "test_file = \"data/test_gamcompare/json/tcompared_tmapped100_tsim100.json\"\n",
    "model_file = \"data/models/model_len100.h5\""
   ]
  },
  {
   "cell_type": "code",
   "execution_count": 6,
   "metadata": {},
   "outputs": [
    {
     "name": "stdout",
     "output_type": "stream",
     "text": [
      "1000000\n"
     ]
    }
   ],
   "source": [
    "def json2csv(file):\n",
    "    df_dict = {\n",
    "        'correct': list(),\n",
    "        'mq': list(),\n",
    "        'score': list(),\n",
    "        'secondary_score' : list(),\n",
    "        'secondary_score_size':list(),\n",
    "        'identity': list(),\n",
    "        'aligner' : list(),\n",
    "        'read': list()\n",
    "    }\n",
    "    with open(file, \"r+\") as f:\n",
    "        line = f.readline()\n",
    "        #line_dict = json.loads(line) \n",
    "        i = 0\n",
    "        while(line != \"\"):\n",
    "            line_dict = json.loads(line)\n",
    "            if 'correctly_mapped' in line_dict:\n",
    "                df_dict['correct'].append(1)\n",
    "            else:\n",
    "                df_dict['correct'].append(0)\n",
    "                \n",
    "            if 'mapping_quality' in line_dict:\n",
    "                df_dict['mq'].append(line_dict['mapping_quality'])\n",
    "            else:\n",
    "                df_dict['mq'].append(0)\n",
    "            \n",
    "            if 'score' in line_dict:\n",
    "                df_dict['score'].append(line_dict['score'])\n",
    "            else:\n",
    "                df_dict['score'].append(0)\n",
    "                \n",
    "            if 'identity' in line_dict:\n",
    "                df_dict['identity'].append(line_dict['identity'])\n",
    "            else:\n",
    "                df_dict['identity'].append(0)\n",
    "                \n",
    "            if 'secondary_score' in line_dict:\n",
    "                df_dict['secondary_score'].append(line_dict['secondary_score'][0])\n",
    "                df_dict['secondary_score_size'].append(len(line_dict['secondary_score']))\n",
    "            else:\n",
    "                df_dict['secondary_score'].append(0)\n",
    "                df_dict['secondary_score_size'].append(0)\n",
    "            \n",
    "            df_dict['aligner'].append('orig')\n",
    "            df_dict['read'].append(line_dict['name'])\n",
    "            \n",
    "            line = f.readline()\n",
    "            i += 1\n",
    "        print(i)\n",
    "\n",
    "    return pd.DataFrame(df_dict)\n",
    "    \n",
    "df = json2csv(test_file)"
   ]
  },
  {
   "cell_type": "code",
   "execution_count": 8,
   "metadata": {},
   "outputs": [],
   "source": [
    "tsv_data = df.copy()\n",
    "tsv_data = tsv_data.drop(['score', 'secondary_score', 'identity', 'secondary_score_size'], axis=1)"
   ]
  },
  {
   "cell_type": "code",
   "execution_count": 9,
   "metadata": {},
   "outputs": [],
   "source": [
    "ndf = df.copy()"
   ]
  },
  {
   "cell_type": "code",
   "execution_count": 10,
   "metadata": {},
   "outputs": [],
   "source": [
    "ndf['mq'] = df.mq/60.0\n",
    "ndf['score'] = df.score/df.score.max()\n",
    "ndf['secondary_score'] = df.secondary_score/df.secondary_score.max()\n",
    "ndf['secondary_score_size'] = df.secondary_score_size/df.secondary_score_size.max()"
   ]
  },
  {
   "cell_type": "code",
   "execution_count": 11,
   "metadata": {},
   "outputs": [
    {
     "data": {
      "text/html": [
       "<div>\n",
       "<style scoped>\n",
       "    .dataframe tbody tr th:only-of-type {\n",
       "        vertical-align: middle;\n",
       "    }\n",
       "\n",
       "    .dataframe tbody tr th {\n",
       "        vertical-align: top;\n",
       "    }\n",
       "\n",
       "    .dataframe thead th {\n",
       "        text-align: right;\n",
       "    }\n",
       "</style>\n",
       "<table border=\"1\" class=\"dataframe\">\n",
       "  <thead>\n",
       "    <tr style=\"text-align: right;\">\n",
       "      <th></th>\n",
       "      <th>correct</th>\n",
       "      <th>mq</th>\n",
       "      <th>score</th>\n",
       "      <th>secondary_score</th>\n",
       "      <th>secondary_score_size</th>\n",
       "      <th>identity</th>\n",
       "      <th>aligner</th>\n",
       "      <th>read</th>\n",
       "    </tr>\n",
       "  </thead>\n",
       "  <tbody>\n",
       "    <tr>\n",
       "      <th>0</th>\n",
       "      <td>1</td>\n",
       "      <td>0.25</td>\n",
       "      <td>0.954545</td>\n",
       "      <td>0.909091</td>\n",
       "      <td>0.007874</td>\n",
       "      <td>0.99</td>\n",
       "      <td>orig</td>\n",
       "      <td>86fbc8512647802d</td>\n",
       "    </tr>\n",
       "    <tr>\n",
       "      <th>1</th>\n",
       "      <td>1</td>\n",
       "      <td>1.00</td>\n",
       "      <td>0.954545</td>\n",
       "      <td>0.000000</td>\n",
       "      <td>0.000000</td>\n",
       "      <td>0.99</td>\n",
       "      <td>orig</td>\n",
       "      <td>2fb1922aea224dbe</td>\n",
       "    </tr>\n",
       "    <tr>\n",
       "      <th>2</th>\n",
       "      <td>1</td>\n",
       "      <td>1.00</td>\n",
       "      <td>0.954545</td>\n",
       "      <td>0.000000</td>\n",
       "      <td>0.007874</td>\n",
       "      <td>0.99</td>\n",
       "      <td>orig</td>\n",
       "      <td>93dfa21d81013e2b</td>\n",
       "    </tr>\n",
       "    <tr>\n",
       "      <th>3</th>\n",
       "      <td>1</td>\n",
       "      <td>1.00</td>\n",
       "      <td>0.954545</td>\n",
       "      <td>0.000000</td>\n",
       "      <td>0.000000</td>\n",
       "      <td>0.99</td>\n",
       "      <td>orig</td>\n",
       "      <td>57e5a50ad9763655</td>\n",
       "    </tr>\n",
       "    <tr>\n",
       "      <th>4</th>\n",
       "      <td>1</td>\n",
       "      <td>1.00</td>\n",
       "      <td>1.000000</td>\n",
       "      <td>0.000000</td>\n",
       "      <td>0.000000</td>\n",
       "      <td>1.00</td>\n",
       "      <td>orig</td>\n",
       "      <td>2a016082a1d0a262</td>\n",
       "    </tr>\n",
       "  </tbody>\n",
       "</table>\n",
       "</div>"
      ],
      "text/plain": [
       "   correct    mq     score  secondary_score  secondary_score_size  identity  \\\n",
       "0        1  0.25  0.954545         0.909091              0.007874      0.99   \n",
       "1        1  1.00  0.954545         0.000000              0.000000      0.99   \n",
       "2        1  1.00  0.954545         0.000000              0.007874      0.99   \n",
       "3        1  1.00  0.954545         0.000000              0.000000      0.99   \n",
       "4        1  1.00  1.000000         0.000000              0.000000      1.00   \n",
       "\n",
       "  aligner              read  \n",
       "0    orig  86fbc8512647802d  \n",
       "1    orig  2fb1922aea224dbe  \n",
       "2    orig  93dfa21d81013e2b  \n",
       "3    orig  57e5a50ad9763655  \n",
       "4    orig  2a016082a1d0a262  "
      ]
     },
     "execution_count": 11,
     "metadata": {},
     "output_type": "execute_result"
    }
   ],
   "source": [
    "ndf.head()"
   ]
  },
  {
   "cell_type": "code",
   "execution_count": 12,
   "metadata": {},
   "outputs": [],
   "source": [
    "incorrect_amount = ndf[ndf.correct == 0]['correct'].count()\n",
    "incorrect_amount = 1000000"
   ]
  },
  {
   "cell_type": "code",
   "execution_count": 13,
   "metadata": {},
   "outputs": [
    {
     "data": {
      "text/plain": [
       "(800000, 200000)"
      ]
     },
     "execution_count": 13,
     "metadata": {},
     "output_type": "execute_result"
    }
   ],
   "source": [
    "train_incorrect_amount = int(incorrect_amount * 0.8)\n",
    "test_incorrect_amount = int(incorrect_amount * 0.2)\n",
    "train_incorrect_amount,test_incorrect_amount "
   ]
  },
  {
   "cell_type": "code",
   "execution_count": 14,
   "metadata": {},
   "outputs": [],
   "source": [
    "X = ndf.iloc[:, 1:6]\n",
    "y = ndf.iloc[:, 0]\n"
   ]
  },
  {
   "cell_type": "code",
   "execution_count": 15,
   "metadata": {},
   "outputs": [],
   "source": [
    "permu_index = np.random.permutation(X.shape[0])"
   ]
  },
  {
   "cell_type": "code",
   "execution_count": 16,
   "metadata": {},
   "outputs": [],
   "source": [
    "X = X.iloc[permu_index, :]\n",
    "y = y.iloc[permu_index]"
   ]
  },
  {
   "cell_type": "code",
   "execution_count": 122,
   "metadata": {},
   "outputs": [],
   "source": [
    "# X_train_correct = X[y.correct == 1].iloc[:train_incorrect_amount]\n",
    "# y_train_correct = y[y.correct == 1].iloc[:train_incorrect_amount]\n",
    "\n",
    "# X_train_incorrect = X[y.correct == 0].iloc[:train_incorrect_amount]\n",
    "# y_train_incorrect = y[y.correct == 0].iloc[:train_incorrect_amount]\n",
    "\n",
    "# X_test_correct = X[y.correct == 1].iloc[train_incorrect_amount:train_incorrect_amount+test_incorrect_amount]\n",
    "# y_test_correct = y[y.correct == 1].iloc[train_incorrect_amount:train_incorrect_amount+test_incorrect_amount]\n",
    "\n",
    "# X_test_incorrect = X[y.correct == 0].iloc[train_incorrect_amount:train_incorrect_amount+test_incorrect_amount]\n",
    "# y_test_incorrect = y[y.correct == 0].iloc[train_incorrect_amount:train_incorrect_amount+test_incorrect_amount]\n",
    "\n",
    "\n",
    "# print(X_train_correct.shape)\n",
    "# print(X_train_incorrect.shape)\n",
    "# print(X_test_correct.shape)\n",
    "# print(X_test_incorrect.shape)\n"
   ]
  },
  {
   "cell_type": "code",
   "execution_count": 123,
   "metadata": {},
   "outputs": [
    {
     "name": "stdout",
     "output_type": "stream",
     "text": [
      "(800000, 5)\n",
      "(200000, 5)\n",
      "(800000, 1)\n",
      "(200000, 1)\n"
     ]
    }
   ],
   "source": [
    "# X_train = np.append(X_train_correct, X_train_incorrect, axis=0)\n",
    "# X_test = np.append(X_test_correct, X_test_incorrect, axis=0)\n",
    "\n",
    "# y_train = np.append(y_train_correct, y_train_incorrect)\n",
    "# y_test = np.append(y_test_correct, y_test_incorrect)\n",
    "\n",
    "print(X_train.shape)\n",
    "print(X_test.shape)\n",
    "print(y_train.shape)\n",
    "print(y_test.shape)"
   ]
  },
  {
   "cell_type": "code",
   "execution_count": 124,
   "metadata": {},
   "outputs": [
    {
     "name": "stdout",
     "output_type": "stream",
     "text": [
      "(800000, 5)\n",
      "(200000, 5)\n",
      "(800000,)\n",
      "(200000,)\n"
     ]
    }
   ],
   "source": [
    "X_train = X[:train_incorrect_amount].values\n",
    "X_test = X[train_incorrect_amount:train_incorrect_amount+test_incorrect_amount].values\n",
    "\n",
    "y_train = y[:train_incorrect_amount].values\n",
    "y_test = y[train_incorrect_amount:train_incorrect_amount+test_incorrect_amount].values\n",
    "\n",
    "print(X_train.shape)\n",
    "print(X_test.shape)\n",
    "print(y_train.shape)\n",
    "print(y_test.shape)"
   ]
  },
  {
   "cell_type": "code",
   "execution_count": 125,
   "metadata": {},
   "outputs": [],
   "source": [
    "y_train_class = np.zeros((800000, 2))\n",
    "\n",
    "y_train_class[(y_train==True), : ] = [1, 0]\n",
    "y_train_class[(y_train==False), :] = [0, 1]"
   ]
  },
  {
   "cell_type": "code",
   "execution_count": 126,
   "metadata": {},
   "outputs": [
    {
     "data": {
      "text/plain": [
       "array([1, 1, 1, ..., 1, 1, 1])"
      ]
     },
     "execution_count": 126,
     "metadata": {},
     "output_type": "execute_result"
    }
   ],
   "source": [
    "y_train"
   ]
  },
  {
   "cell_type": "code",
   "execution_count": 127,
   "metadata": {},
   "outputs": [],
   "source": [
    "y_test_class = np.zeros((200000, 2))\n",
    "\n",
    "y_test_class[(y_test==True), : ] = [1, 0]\n",
    "y_test_class[(y_test==False), :] = [0, 1]"
   ]
  },
  {
   "cell_type": "code",
   "execution_count": 128,
   "metadata": {},
   "outputs": [
    {
     "data": {
      "text/plain": [
       "(array([[1., 0.],\n",
       "        [1., 0.],\n",
       "        [1., 0.],\n",
       "        ...,\n",
       "        [1., 0.],\n",
       "        [1., 0.],\n",
       "        [1., 0.]]), array([[1., 0.],\n",
       "        [1., 0.],\n",
       "        [1., 0.],\n",
       "        ...,\n",
       "        [1., 0.],\n",
       "        [1., 0.],\n",
       "        [1., 0.]]))"
      ]
     },
     "execution_count": 128,
     "metadata": {},
     "output_type": "execute_result"
    }
   ],
   "source": [
    "y_train_class, y_test_class"
   ]
  },
  {
   "cell_type": "markdown",
   "metadata": {},
   "source": [
    "#### Neural Network HyperParameters"
   ]
  },
  {
   "cell_type": "code",
   "execution_count": 129,
   "metadata": {},
   "outputs": [],
   "source": [
    "input_layer = 5\n",
    "output_layer = 2 \n",
    "\n",
    "h_layer1 = 8\n",
    "dropout1 = 0.25\n",
    "\n",
    "h_layer2 = 16\n",
    "dropout2 = 0.5\n",
    "\n",
    "h_layer3 = 16\n",
    "dropout3 = 0.5\n",
    "\n",
    "h_layer4 = 8\n",
    "dropout4 = 0.5"
   ]
  },
  {
   "cell_type": "markdown",
   "metadata": {},
   "source": [
    "#### Neural Network Architecture"
   ]
  },
  {
   "cell_type": "code",
   "execution_count": 130,
   "metadata": {},
   "outputs": [],
   "source": [
    "model = Sequential()\n",
    "\n",
    "model.add(Dense(h_layer1, activation='relu', input_shape=(input_layer, )))\n",
    "model.add(BatchNormalization())\n",
    "model.add(Dropout(dropout1))\n",
    "\n",
    "model.add(Dense(h_layer2, activation='relu'))\n",
    "model.add(BatchNormalization())\n",
    "model.add(Dropout(dropout2))\n",
    "\n",
    "model.add(Dense(h_layer3, activation='relu'))\n",
    "model.add(Dropout(dropout3))\n",
    "\n",
    "model.add(Dense(h_layer4, activation='relu'))\n",
    "model.add(BatchNormalization())\n",
    "model.add(Dropout(dropout4))\n",
    "\n",
    "model.add(Dense(output_layer, activation='softmax'))"
   ]
  },
  {
   "cell_type": "code",
   "execution_count": 131,
   "metadata": {},
   "outputs": [
    {
     "name": "stdout",
     "output_type": "stream",
     "text": [
      "_________________________________________________________________\n",
      "Layer (type)                 Output Shape              Param #   \n",
      "=================================================================\n",
      "dense_6 (Dense)              (None, 8)                 48        \n",
      "_________________________________________________________________\n",
      "batch_normalization_4 (Batch (None, 8)                 32        \n",
      "_________________________________________________________________\n",
      "dropout_5 (Dropout)          (None, 8)                 0         \n",
      "_________________________________________________________________\n",
      "dense_7 (Dense)              (None, 16)                144       \n",
      "_________________________________________________________________\n",
      "batch_normalization_5 (Batch (None, 16)                64        \n",
      "_________________________________________________________________\n",
      "dropout_6 (Dropout)          (None, 16)                0         \n",
      "_________________________________________________________________\n",
      "dense_8 (Dense)              (None, 16)                272       \n",
      "_________________________________________________________________\n",
      "dropout_7 (Dropout)          (None, 16)                0         \n",
      "_________________________________________________________________\n",
      "dense_9 (Dense)              (None, 8)                 136       \n",
      "_________________________________________________________________\n",
      "batch_normalization_6 (Batch (None, 8)                 32        \n",
      "_________________________________________________________________\n",
      "dropout_8 (Dropout)          (None, 8)                 0         \n",
      "_________________________________________________________________\n",
      "dense_10 (Dense)             (None, 2)                 18        \n",
      "=================================================================\n",
      "Total params: 746\n",
      "Trainable params: 682\n",
      "Non-trainable params: 64\n",
      "_________________________________________________________________\n"
     ]
    }
   ],
   "source": [
    "model.summary()"
   ]
  },
  {
   "cell_type": "code",
   "execution_count": 132,
   "metadata": {},
   "outputs": [],
   "source": [
    "model.compile(loss='categorical_crossentropy', optimizer='adam', metrics=['accuracy'])"
   ]
  },
  {
   "cell_type": "code",
   "execution_count": null,
   "metadata": {},
   "outputs": [
    {
     "name": "stdout",
     "output_type": "stream",
     "text": [
      "Train on 800000 samples, validate on 200000 samples\n",
      "Epoch 1/30\n",
      "800000/800000 [==============================] - 311s 389us/step - loss: 0.0082 - acc: 0.9975 - val_loss: 0.0054 - val_acc: 0.9979\n",
      "Epoch 2/30\n",
      "800000/800000 [==============================] - 274s 342us/step - loss: 0.0070 - acc: 0.9975 - val_loss: 0.0046 - val_acc: 0.9979\n",
      "Epoch 3/30\n",
      "800000/800000 [==============================] - 267s 333us/step - loss: 0.0069 - acc: 0.9975 - val_loss: 0.0050 - val_acc: 0.9979\n",
      "Epoch 4/30\n",
      "800000/800000 [==============================] - 298s 372us/step - loss: 0.0065 - acc: 0.9975 - val_loss: 0.0052 - val_acc: 0.9979\n",
      "Epoch 5/30\n",
      "800000/800000 [==============================] - 471s 588us/step - loss: 0.0065 - acc: 0.9975 - val_loss: 0.0044 - val_acc: 0.9979\n",
      "Epoch 6/30\n",
      "800000/800000 [==============================] - 478s 598us/step - loss: 0.0062 - acc: 0.9977 - val_loss: 0.0041 - val_acc: 0.9980\n",
      "Epoch 7/30\n",
      "800000/800000 [==============================] - 321s 401us/step - loss: 0.0060 - acc: 0.9977 - val_loss: 0.0035 - val_acc: 0.9983\n",
      "Epoch 8/30\n",
      "800000/800000 [==============================] - 465s 582us/step - loss: 0.0059 - acc: 0.9978 - val_loss: 0.0037 - val_acc: 0.9979\n",
      "Epoch 9/30\n",
      "800000/800000 [==============================] - 401s 501us/step - loss: 0.0059 - acc: 0.9978 - val_loss: 0.0034 - val_acc: 0.9985\n",
      "Epoch 10/30\n",
      "800000/800000 [==============================] - 435s 544us/step - loss: 0.0059 - acc: 0.9978 - val_loss: 0.0035 - val_acc: 0.9980\n",
      "Epoch 11/30\n",
      "800000/800000 [==============================] - 433s 542us/step - loss: 0.0057 - acc: 0.9979 - val_loss: 0.0036 - val_acc: 0.9984\n",
      "Epoch 12/30\n",
      "800000/800000 [==============================] - 406s 507us/step - loss: 0.0056 - acc: 0.9979 - val_loss: 0.0039 - val_acc: 0.9980\n",
      "Epoch 13/30\n",
      "800000/800000 [==============================] - 433s 541us/step - loss: 0.0061 - acc: 0.9976 - val_loss: 0.0054 - val_acc: 0.9979\n",
      "Epoch 14/30\n",
      "800000/800000 [==============================] - 312s 390us/step - loss: 0.0062 - acc: 0.9977 - val_loss: 0.0039 - val_acc: 0.9979\n",
      "Epoch 15/30\n",
      "800000/800000 [==============================] - 299s 374us/step - loss: 0.0057 - acc: 0.9978 - val_loss: 0.0039 - val_acc: 0.9979\n",
      "Epoch 16/30\n",
      "800000/800000 [==============================] - 399s 498us/step - loss: 0.0057 - acc: 0.9979 - val_loss: 0.0034 - val_acc: 0.9985\n",
      "Epoch 17/30\n",
      "800000/800000 [==============================] - 412s 515us/step - loss: 0.0057 - acc: 0.9979 - val_loss: 0.0033 - val_acc: 0.9984\n",
      "Epoch 18/30\n",
      "800000/800000 [==============================] - 430s 537us/step - loss: 0.0056 - acc: 0.9978 - val_loss: 0.0035 - val_acc: 0.9980\n",
      "Epoch 19/30\n",
      "800000/800000 [==============================] - 479s 598us/step - loss: 0.0056 - acc: 0.9979 - val_loss: 0.0042 - val_acc: 0.9978\n",
      "Epoch 20/30\n",
      "800000/800000 [==============================] - 486s 608us/step - loss: 0.0055 - acc: 0.9979 - val_loss: 0.0033 - val_acc: 0.9984\n",
      "Epoch 21/30\n",
      "186752/800000 [======>.......................] - ETA: 5:54 - loss: 0.0058 - acc: 0.9979"
     ]
    }
   ],
   "source": [
    "model.fit(X_train, y_train_class, batch_size=128, epochs=30, \n",
    "          verbose=1, validation_data=(X_test, y_test_class), shuffle=True)"
   ]
  },
  {
   "cell_type": "code",
   "execution_count": 134,
   "metadata": {},
   "outputs": [
    {
     "data": {
      "text/plain": [
       "array([[6.54491484e-01, 3.45508575e-01],\n",
       "       [5.20208895e-01, 4.79791075e-01],\n",
       "       [8.80289793e-01, 1.19710207e-01],\n",
       "       [7.98819721e-01, 2.01180279e-01],\n",
       "       [6.43149555e-01, 3.56850445e-01],\n",
       "       [1.19745696e-03, 9.98802543e-01],\n",
       "       [8.79633129e-01, 1.20366871e-01],\n",
       "       [7.99816847e-01, 2.00183153e-01],\n",
       "       [6.83864534e-01, 3.16135406e-01],\n",
       "       [2.55335718e-02, 9.74466503e-01],\n",
       "       [8.80943120e-01, 1.19056851e-01],\n",
       "       [6.52612805e-01, 3.47387195e-01],\n",
       "       [5.57245910e-01, 4.42754149e-01],\n",
       "       [6.46948934e-01, 3.53051096e-01],\n",
       "       [8.79633129e-01, 1.20366871e-01],\n",
       "       [8.01799834e-01, 1.98200166e-01],\n",
       "       [7.79170334e-01, 2.20829666e-01],\n",
       "       [8.13386917e-01, 1.86613068e-01],\n",
       "       [8.82240772e-01, 1.17759302e-01],\n",
       "       [4.96164605e-04, 9.99503851e-01],\n",
       "       [3.39533150e-01, 6.60466850e-01],\n",
       "       [8.64387214e-01, 1.35612816e-01],\n",
       "       [8.80289793e-01, 1.19710207e-01],\n",
       "       [8.83526206e-01, 1.16473794e-01],\n",
       "       [6.45051777e-01, 3.54948223e-01],\n",
       "       [7.50837088e-01, 2.49162883e-01],\n",
       "       [6.46948934e-01, 3.53051096e-01],\n",
       "       [9.96184528e-01, 3.81540717e-03],\n",
       "       [8.74268115e-01, 1.25731811e-01],\n",
       "       [9.99629378e-01, 3.70562455e-04],\n",
       "       [6.76646411e-01, 3.23353618e-01],\n",
       "       [8.87929499e-01, 1.12070560e-01],\n",
       "       [6.76646411e-01, 3.23353618e-01],\n",
       "       [4.08471286e-01, 5.91528714e-01],\n",
       "       [6.41243219e-01, 3.58756751e-01],\n",
       "       [6.74828470e-01, 3.25171560e-01],\n",
       "       [7.68902451e-02, 9.23109829e-01],\n",
       "       [8.87929499e-01, 1.12070560e-01],\n",
       "       [8.84799302e-01, 1.15200669e-01],\n",
       "       [8.78973484e-01, 1.21026576e-01],\n",
       "       [6.41243219e-01, 3.58756751e-01],\n",
       "       [9.99865174e-01, 1.34845584e-04],\n",
       "       [4.06468302e-01, 5.93531728e-01],\n",
       "       [6.67504191e-01, 3.32495809e-01],\n",
       "       [3.92536491e-01, 6.07463479e-01],\n",
       "       [9.98265564e-01, 1.73449039e-03],\n",
       "       [5.20208895e-01, 4.79791075e-01],\n",
       "       [7.52781034e-01, 2.47218952e-01],\n",
       "       [8.13386917e-01, 1.86613068e-01],\n",
       "       [4.28659886e-01, 5.71340144e-01],\n",
       "       [8.85431409e-01, 1.14568584e-01],\n",
       "       [8.87929499e-01, 1.12070560e-01],\n",
       "       [6.61956906e-01, 3.38043064e-01],\n",
       "       [6.39332354e-01, 3.60667676e-01],\n",
       "       [5.04243612e-01, 4.95756418e-01],\n",
       "       [8.04746389e-01, 1.95253626e-01],\n",
       "       [7.59105146e-01, 2.40894914e-01],\n",
       "       [8.55960131e-01, 1.44039854e-01],\n",
       "       [1.62155449e-01, 8.37844551e-01],\n",
       "       [8.80289793e-01, 1.19710207e-01],\n",
       "       [6.73005223e-01, 3.26994687e-01],\n",
       "       [9.27376807e-01, 7.26232529e-02],\n",
       "       [5.30121091e-04, 9.99469936e-01],\n",
       "       [8.73583317e-01, 1.26416698e-01],\n",
       "       [8.83526206e-01, 1.16473794e-01],\n",
       "       [1.09113239e-10, 1.00000000e+00],\n",
       "       [8.87309372e-01, 1.12690605e-01],\n",
       "       [6.12295926e-01, 3.87704045e-01],\n",
       "       [1.17977289e-02, 9.88202274e-01],\n",
       "       [8.83526206e-01, 1.16473794e-01],\n",
       "       [5.75554490e-01, 4.24445540e-01],\n",
       "       [8.11492503e-01, 1.88507557e-01],\n",
       "       [3.37276995e-01, 6.62723005e-01],\n",
       "       [8.81593466e-01, 1.18406549e-01],\n",
       "       [8.13386917e-01, 1.86613068e-01],\n",
       "       [9.96625543e-01, 3.37447878e-03],\n",
       "       [8.67989063e-01, 1.32010937e-01],\n",
       "       [8.87309372e-01, 1.12690605e-01],\n",
       "       [4.57312256e-01, 5.42687714e-01],\n",
       "       [8.54900360e-01, 1.45099625e-01],\n",
       "       [7.71608651e-02, 9.22839165e-01],\n",
       "       [7.47965515e-01, 2.52034545e-01],\n",
       "       [7.98819721e-01, 2.01180279e-01],\n",
       "       [3.92666366e-03, 9.96073365e-01],\n",
       "       [2.61734486e-01, 7.38265455e-01],\n",
       "       [7.84471095e-01, 2.15528935e-01],\n",
       "       [7.95806408e-01, 2.04193607e-01],\n",
       "       [4.84178007e-01, 5.15821934e-01],\n",
       "       [7.00929582e-01, 2.99070418e-01],\n",
       "       [6.82068050e-01, 3.17932010e-01],\n",
       "       [5.30831814e-01, 4.69168156e-01],\n",
       "       [8.13386917e-01, 1.86613068e-01],\n",
       "       [1.21036870e-02, 9.87896323e-01],\n",
       "       [8.77644718e-01, 1.22355320e-01],\n",
       "       [8.55411470e-01, 1.44588530e-01],\n",
       "       [8.10539782e-01, 1.89460173e-01],\n",
       "       [8.86686444e-01, 1.13313533e-01],\n",
       "       [4.77964371e-01, 5.22035658e-01],\n",
       "       [8.84164214e-01, 1.15835734e-01],\n",
       "       [7.55956709e-01, 2.44043306e-01]], dtype=float32)"
      ]
     },
     "execution_count": 134,
     "metadata": {},
     "output_type": "execute_result"
    }
   ],
   "source": [
    "X_sample = X_test[y_test == 0][0:100]\n",
    "\n",
    "model.predict(X_sample)"
   ]
  },
  {
   "cell_type": "code",
   "execution_count": 147,
   "metadata": {},
   "outputs": [],
   "source": [
    "model.save('model_2-all.h5')\n",
    "model.save_weights('model_2-w-all.h5')"
   ]
  },
  {
   "cell_type": "code",
   "execution_count": 135,
   "metadata": {},
   "outputs": [],
   "source": [
    "y_pred = model.predict(ndf.iloc[:, 1:6].values) "
   ]
  },
  {
   "cell_type": "code",
   "execution_count": 136,
   "metadata": {},
   "outputs": [],
   "source": [
    "orig = decodePhed(df.mq.values)\n",
    "labels = df.correct.values\n",
    "nn_pred = y_pred[:, 0]"
   ]
  },
  {
   "cell_type": "code",
   "execution_count": 137,
   "metadata": {},
   "outputs": [],
   "source": [
    "indx = ((y_pred[:, 0]  >= 0.90) | (y_pred[:, 0]  <= 0.10))"
   ]
  },
  {
   "cell_type": "code",
   "execution_count": 138,
   "metadata": {},
   "outputs": [
    {
     "data": {
      "text/plain": [
       "array([0.99993706, 0.9999318 , 0.99993706, ..., 0.9999306 , 0.99993706,\n",
       "       0.99995637], dtype=float32)"
      ]
     },
     "execution_count": 138,
     "metadata": {},
     "output_type": "execute_result"
    }
   ],
   "source": [
    "nn_pred[indx]"
   ]
  },
  {
   "cell_type": "code",
   "execution_count": 139,
   "metadata": {},
   "outputs": [
    {
     "data": {
      "text/plain": [
       "0.0001320709796901863"
      ]
     },
     "execution_count": 139,
     "metadata": {},
     "output_type": "execute_result"
    }
   ],
   "source": [
    "brier_score_loss(labels[indx], nn_pred[indx])"
   ]
  },
  {
   "cell_type": "code",
   "execution_count": 140,
   "metadata": {},
   "outputs": [
    {
     "data": {
      "text/plain": [
       "0.0017481454421636765"
      ]
     },
     "execution_count": 140,
     "metadata": {},
     "output_type": "execute_result"
    }
   ],
   "source": [
    "brier_score_loss(labels, orig) "
   ]
  },
  {
   "cell_type": "code",
   "execution_count": 141,
   "metadata": {},
   "outputs": [],
   "source": [
    "nn_pred[nn_pred >= 0.5] = 1\n",
    "nn_pred[nn_pred < 0.5] = 0"
   ]
  },
  {
   "cell_type": "code",
   "execution_count": 142,
   "metadata": {},
   "outputs": [
    {
     "data": {
      "text/plain": [
       "0.997873"
      ]
     },
     "execution_count": 142,
     "metadata": {},
     "output_type": "execute_result"
    }
   ],
   "source": [
    "accuracy_score(labels, nn_pred)"
   ]
  },
  {
   "cell_type": "code",
   "execution_count": 143,
   "metadata": {},
   "outputs": [],
   "source": [
    "orig[orig >= 0.5] = 1\n",
    "orig[orig < 0.5] = 0"
   ]
  },
  {
   "cell_type": "code",
   "execution_count": 144,
   "metadata": {},
   "outputs": [
    {
     "data": {
      "text/plain": [
       "0.998082"
      ]
     },
     "execution_count": 144,
     "metadata": {},
     "output_type": "execute_result"
    }
   ],
   "source": [
    "accuracy_score(labels, orig)"
   ]
  },
  {
   "cell_type": "code",
   "execution_count": 145,
   "metadata": {},
   "outputs": [
    {
     "data": {
      "text/plain": [
       "0.9996822294063104"
      ]
     },
     "execution_count": 145,
     "metadata": {},
     "output_type": "execute_result"
    }
   ],
   "source": [
    "accuracy_score(labels[labels == 1], nn_pred[labels == 1])"
   ]
  },
  {
   "cell_type": "code",
   "execution_count": 146,
   "metadata": {
    "scrolled": true
   },
   "outputs": [
    {
     "data": {
      "text/plain": [
       "0.9983239355436935"
      ]
     },
     "execution_count": 146,
     "metadata": {},
     "output_type": "execute_result"
    }
   ],
   "source": [
    "accuracy_score(labels[labels == 1], orig[labels == 1])"
   ]
  },
  {
   "cell_type": "code",
   "execution_count": 148,
   "metadata": {},
   "outputs": [
    {
     "data": {
      "text/plain": [
       "0.2536082474226804"
      ]
     },
     "execution_count": 148,
     "metadata": {},
     "output_type": "execute_result"
    }
   ],
   "source": [
    "accuracy_score(labels[labels == 0], nn_pred[labels == 0])"
   ]
  },
  {
   "cell_type": "code",
   "execution_count": 149,
   "metadata": {
    "scrolled": true
   },
   "outputs": [
    {
     "data": {
      "text/plain": [
       "0.8985567010309279"
      ]
     },
     "execution_count": 149,
     "metadata": {},
     "output_type": "execute_result"
    }
   ],
   "source": [
    "accuracy_score(labels[labels == 0], orig[labels == 0])"
   ]
  },
  {
   "cell_type": "code",
   "execution_count": null,
   "metadata": {},
   "outputs": [],
   "source": []
  }
 ],
 "metadata": {
  "kernelspec": {
   "display_name": "Python 3",
   "language": "python",
   "name": "python3"
  },
  "language_info": {
   "codemirror_mode": {
    "name": "ipython",
    "version": 3
   },
   "file_extension": ".py",
   "mimetype": "text/x-python",
   "name": "python",
   "nbconvert_exporter": "python",
   "pygments_lexer": "ipython3",
   "version": "3.6.5"
  }
 },
 "nbformat": 4,
 "nbformat_minor": 2
}
